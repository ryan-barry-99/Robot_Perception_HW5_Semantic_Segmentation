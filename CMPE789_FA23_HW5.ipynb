{
  "cells": [
    {
      "cell_type": "markdown",
      "metadata": {
        "id": "7w6ETNL1Zs3i"
      },
      "source": [
        "# **Homework 5: Semantic Segmentation**"
      ]
    },
    {
      "cell_type": "markdown",
      "metadata": {
        "id": "-nLjOnO7aFv1"
      },
      "source": [
        "\n",
        "\n",
        "Objectives:\n",
        "* Get familiar with semantic segmentation.\n",
        "* Understand the basic pipeline.\n",
        "* Solve some problems of semantic segmentation.\n",
        "\n",
        "Total points: 100\n",
        "\n",
        "If any questions, please contact the TAs via TA hours, or email.\n"
      ]
    },
    {
      "cell_type": "markdown",
      "metadata": {
        "id": "JFQJZllwaWE-"
      },
      "source": [
        "# **Download and install**"
      ]
    },
    {
      "cell_type": "code",
      "execution_count": 3,
      "metadata": {
        "id": "8cpM22mkNiv-"
      },
      "outputs": [],
      "source": [
        "# Download data\n",
        "!gdown 1g10Er1vhNbrqa0pZf0R08B9RrmRxIoWt\n",
        "\n",
        "# Install filterpy\n",
        "! unzip LabPicsV1.zip\n",
        "\n",
        "from IPython.display import clear_output\n",
        "clear_output()"
      ]
    },
    {
      "cell_type": "code",
      "execution_count": 9,
      "metadata": {
        "id": "Jr7qtGEwkHGW"
      },
      "outputs": [],
      "source": [
        "# System\n",
        "import os, sys, time, datetime, random\n",
        "from tqdm import tqdm\n",
        "\n",
        "# Data processing\n",
        "import numpy as np\n",
        "\n",
        "# Pytorch\n",
        "import torch\n",
        "from torch.utils.data import DataLoader\n",
        "from torchvision import datasets, transforms\n",
        "import torchvision.transforms as tf\n",
        "import torchvision.models.segmentation\n",
        "from torch.autograd import Variable\n",
        "\n",
        "# Image processing\n",
        "import cv2\n",
        "import matplotlib.pyplot as plt\n",
        "import matplotlib.patches as patches\n",
        "from PIL import Image\n",
        "from skimage import io\n"
      ]
    },
    {
      "cell_type": "markdown",
      "metadata": {
        "id": "YoNT5hqcdPeM"
      },
      "source": [
        "# **Semantic segmentation with pre-trained DeepLabv3**"
      ]
    },
    {
      "cell_type": "markdown",
      "metadata": {
        "id": "N6xsh-M3_GZ1"
      },
      "source": [
        "## **About the LabPicsV1 Dataset**\n",
        "\n",
        "The Vector-LabPics V1 dataset contains 2187 images of chemical experiments with materials within mostly transparent vessels in various laboratory settings and in everyday conditions such as beverage handling.\n",
        "\n",
        "Each image in the dataset has an annotation of the region of each material phase and its type.\n",
        "\n",
        "In addition, the region of each vessel and its labels, parts, and corks are also marked."
      ]
    },
    {
      "cell_type": "markdown",
      "metadata": {
        "id": "JbPhK2EBfrg4"
      },
      "source": [
        "## **About the DeepLabv3**\n",
        "\n",
        "DeepLabv3 is a semantic segmentation architecture. To handle the problem of segmenting objects at multiple scales, modules are designed which employ atrous convolution in cascade or in parallel to capture multi-scale context by adopting multiple atrous rates.\n",
        "\n",
        "Furthermore, the Atrous Spatial Pyramid Pooling (ASSP) module from DeepLabv2 augmented with image-level features encoding global context and further boost performance. The changes to the ASSP module are that the authors apply global average pooling on the last feature map of the model, feed the resulting image-level features to a 1 × 1 convolution with 256 filters (and batch normalization), and then bilinearly upsample the feature to the desired spatial dimension.\n",
        "\n",
        "In the end, the improved ASPP consists of one 1×1 convolution and three 3 × 3 convolutions with rates = (6, 12, 18) when output stride = 16 (all with 256 filters and batch normalization), and the image-level features."
      ]
    },
    {
      "cell_type": "markdown",
      "metadata": {
        "id": "gJccnKRhQw_w"
      },
      "source": [
        "## Utils"
      ]
    },
    {
      "cell_type": "code",
      "execution_count": 12,
      "metadata": {
        "id": "VqOMK_6odmIh"
      },
      "outputs": [],
      "source": [
        "width=height=900 # image width and height\n",
        "batchSize=2\n",
        "\n",
        "TrainFolder=\"C:/Users/Ryan Barry/OneDrive - rit.edu/Laptop Backup/Desktop/RIT/Robot Perception/Homework/HW5/content/LabPicsV1/Simple/Train/\"\n",
        "ListImages=os.listdir(os.path.join(TrainFolder, \"Image\")) # Create list of images\n",
        "\n",
        "transformImg=tf.Compose([tf.ToPILImage(),tf.Resize((height,width)),tf.ToTensor(),tf.Normalize((0.485, 0.456, 0.406), (0.229, 0.224, 0.225))])\n",
        "transformAnn=tf.Compose([tf.ToPILImage(),tf.Resize((height,width),tf.InterpolationMode.NEAREST),tf.ToTensor()])"
      ]
    },
    {
      "cell_type": "markdown",
      "metadata": {
        "id": "W-KX6Qe6Rij_"
      },
      "source": [
        "For convienence, we only train the semantic segmentation with class of vessel and filled. You may extend this task to all categories."
      ]
    },
    {
      "cell_type": "markdown",
      "metadata": {
        "id": "6RdWyl67QZ9Z"
      },
      "source": [
        "## Read random image (30pts)"
      ]
    },
    {
      "cell_type": "code",
      "execution_count": 3,
      "metadata": {
        "id": "cPJQ1DgUQaE5"
      },
      "outputs": [],
      "source": [
        "def ReadRandomImage(): # First lets load random image and  the corresponding annotation\n",
        "    #(30pts)TODO: Fill this function\n",
        "    # 1. Select a RANDOM image from /content/LabPicsV1/Simple/Train/Image/ folder (5pts)\n",
        "    #    NOTE: be careful with channel numbers of the image, we need RGB channels only\n",
        "\n",
        "    # 2. Pick the 1_Vessel and 16_Filled semantic masks for this image (5pts)\n",
        "    #    NOTE: /content/LabPicsV1/Simple/Train/Semantic/ folder contains different semantic classes\n",
        "\n",
        "    # 3. Create annotation map AnnMap with the same size as the image,\n",
        "    #    where we set 1 for vessel pixels and 2 for filled pixels, and 0 for the others (15pts)\n",
        "\n",
        "    # 4. Apply transformImg to the image and transformAnn to AnnMap (5pts)\n",
        "    random_idx=np.random.randint(0,len(ListImages)) # Select random image\n",
        "    Img=cv2.imread(os.path.join(TrainFolder, \"Image\", ListImages[random_idx]))[:,:,0:3]\n",
        "    Filled =  cv2.imread(os.path.join(TrainFolder, \"Semantic/16_Filled\", ListImages[random_idx].replace(\"jpg\",\"png\")),0)\n",
        "    Vessel =  cv2.imread(os.path.join(TrainFolder, \"Semantic/1_Vessel\", ListImages[random_idx].replace(\"jpg\",\"png\")),0)\n",
        "    AnnMap = np.zeros(Img.shape[0:2],np.float32)\n",
        "    if Vessel is not None:  AnnMap[ Vessel == 1 ] = 1\n",
        "    if Filled is not None:  AnnMap[ Filled  == 1 ] = 2\n",
        "    Img=transformImg(Img)\n",
        "    AnnMap=transformAnn(AnnMap)\n",
        "\n",
        "    return Img,AnnMap"
      ]
    },
    {
      "cell_type": "markdown",
      "metadata": {
        "id": "Jm-VN0aJMk9V"
      },
      "source": [
        "## Load batch of images (10pts)"
      ]
    },
    {
      "cell_type": "code",
      "execution_count": 4,
      "metadata": {
        "id": "_RMP_g1oMlDB"
      },
      "outputs": [],
      "source": [
        "def LoadBatch():\n",
        "    #(10pts)TODO: Load batch of images, use random image for each batch\n",
        "    img_batch = torch.zeros([batchSize,3,height,width])\n",
        "    ann = torch.zeros([batchSize, height, width])\n",
        "    for i in range(batchSize):\n",
        "        img_batch[i],ann[i]=ReadRandomImage()\n",
        "\n",
        "    return img_batch, ann"
      ]
    },
    {
      "cell_type": "markdown",
      "metadata": {
        "id": "1f4qOiS4MYbS"
      },
      "source": [
        "## Load and set net and optimizer"
      ]
    },
    {
      "cell_type": "code",
      "execution_count": 6,
      "metadata": {
        "id": "9oz9-9OXMYAx"
      },
      "outputs": [
        {
          "name": "stderr",
          "output_type": "stream",
          "text": [
            "c:\\Users\\Ryan Barry\\OneDrive - rit.edu\\Laptop Backup\\Desktop\\RIT\\Robot Perception\\Homework\\HW5\\.venv\\lib\\site-packages\\torchvision\\models\\_utils.py:208: UserWarning: The parameter 'pretrained' is deprecated since 0.13 and may be removed in the future, please use 'weights' instead.\n",
            "  warnings.warn(\n",
            "c:\\Users\\Ryan Barry\\OneDrive - rit.edu\\Laptop Backup\\Desktop\\RIT\\Robot Perception\\Homework\\HW5\\.venv\\lib\\site-packages\\torchvision\\models\\_utils.py:223: UserWarning: Arguments other than a weight enum or `None` for 'weights' are deprecated since 0.13 and may be removed in the future. The current behavior is equivalent to passing `weights=DeepLabV3_ResNet50_Weights.COCO_WITH_VOC_LABELS_V1`. You can also use `weights=DeepLabV3_ResNet50_Weights.DEFAULT` to get the most up-to-date weights.\n",
            "  warnings.warn(msg)\n"
          ]
        }
      ],
      "source": [
        "device = torch.device('cuda') if torch.cuda.is_available() else torch.device('cpu')\n",
        "Net = torchvision.models.segmentation.deeplabv3_resnet50(pretrained=True) # Load net\n",
        "Net.classifier[4] = torch.nn.Conv2d(256, 3, kernel_size=(1, 1), stride=(1, 1)) # Change final layer to 3 classes\n",
        "Net=Net.to(device)\n",
        "Learning_Rate=1e-5\n",
        "optimizer=torch.optim.Adam(params=Net.parameters(),lr=Learning_Rate)"
      ]
    },
    {
      "cell_type": "markdown",
      "metadata": {
        "id": "mU0TN7eMDtTu"
      },
      "source": [
        "## Train (40pts)"
      ]
    },
    {
      "cell_type": "code",
      "execution_count": 10,
      "metadata": {
        "id": "efE5CKDtDte1"
      },
      "outputs": [
        {
          "name": "stderr",
          "output_type": "stream",
          "text": [
            "100%|██████████| 2000/2000 [10:02<00:00,  3.32it/s]"
          ]
        },
        {
          "name": "stdout",
          "output_type": "stream",
          "text": [
            "Saving Model Final.torch\n"
          ]
        },
        {
          "name": "stderr",
          "output_type": "stream",
          "text": [
            "\n"
          ]
        }
      ],
      "source": [
        "for itr in tqdm(range(2000), position=0, leave=True): # Training loop\n",
        "    #(40pts)TODO: Train the model\n",
        "    # hint:\n",
        "    #      1. Set crossentropy loss as loss function\n",
        "    #      2. Calculate loss with ann.long\n",
        "    img_batch,ann=LoadBatch()\n",
        "    img_batch=torch.autograd.Variable(img_batch,requires_grad=False).to(device)\n",
        "    ann = torch.autograd.Variable(ann, requires_grad=False).to(device)\n",
        "    Pred=Net(img_batch)['out']\n",
        "    Net.zero_grad()\n",
        "    criterion = torch.nn.CrossEntropyLoss()\n",
        "    Loss=criterion(Pred,ann.long()) # Calculate cross entropy loss\n",
        "    Loss.backward() # Backpropogate loss\n",
        "    optimizer.step() # Apply gradient descent change to weight\n",
        "    seg = torch.argmax(Pred[0], 0).cpu().detach().numpy()  # Get  prediction \n",
        "    \n",
        "\n",
        "\n",
        "#Save model weight at the end\n",
        "print(\"Saving Model Final.torch\")\n",
        "torch.save(Net.state_dict(),   \"Final.torch\")"
      ]
    },
    {
      "cell_type": "markdown",
      "metadata": {
        "id": "0OJF2csmDzHH"
      },
      "source": [
        "## Inference"
      ]
    },
    {
      "cell_type": "markdown",
      "metadata": {
        "id": "ZQ0rpUqZD3z2"
      },
      "source": [
        "### Origin image (10pts)"
      ]
    },
    {
      "cell_type": "code",
      "execution_count": 30,
      "metadata": {
        "id": "DthdevztmY5W"
      },
      "outputs": [
        {
          "data": {
            "image/png": "[encoded data removed]",
            "text/plain": [
              "<Figure size 640x480 with 1 Axes>"
            ]
          },
          "metadata": {},
          "output_type": "display_data"
        }
      ],
      "source": [
        "modelPath = \"Final.torch\"  # Path to trained model\n",
        "#(10pts)TODO: Display the original image\n",
        "# Select an image (any image that contains vessel and liquid), display the original image\n",
        "directory = \"C:/Users/Ryan Barry/OneDrive - rit.edu/Laptop Backup/Desktop/RIT/Robot Perception/Homework/HW5/content/LabPicsV1/Simple/Test/Image\"\n",
        "# Img = cv2.imread(f\"{directory}/Koen2All_Chemistry experiment 2. - Coloured flask.-screenshot (1).jpg\")\n",
        "Img = cv2.imread(f\"{directory}/NileRed_Getting Manganese Dioxide, Zinc and Carbon from Batteries-screenshot (3).jpg\")\n",
        "height_orgin, widh_orgin, d = Img.shape\n",
        "\n",
        "plt.imshow(Img[:,:,::-1])\n",
        "plt.axis('off')\n",
        "plt.show()"
      ]
    },
    {
      "cell_type": "markdown",
      "metadata": {
        "id": "nORWwAlwD3Ku"
      },
      "source": [
        "### Semantic segmentation visualization (10pts)"
      ]
    },
    {
      "cell_type": "code",
      "execution_count": 31,
      "metadata": {
        "id": "as0rfZ-H1g-3"
      },
      "outputs": [
        {
          "data": {
            "image/png": "[encoded data removed]",
            "text/plain": [
              "<Figure size 640x480 with 1 Axes>"
            ]
          },
          "metadata": {},
          "output_type": "display_data"
        }
      ],
      "source": [
        "Img = transformImg(Img)  # Transform to pytorch\n",
        "Img = torch.autograd.Variable(Img, requires_grad=False).to(device).unsqueeze(0)\n",
        "\n",
        "#(10pts)TODO: Output Visualization\n",
        "# Run the net on the image selected above, and display the segmentation output\n",
        "# hint: don't forget to set to evaluation mode, don't forget to resize\n",
        "\n",
        "device = torch.device('cuda') if torch.cuda.is_available() else torch.device('cpu')\n",
        "Net = torchvision.models.segmentation.deeplabv3_resnet50(pretrained=True) # Load net\n",
        "Net.classifier[4] = torch.nn.Conv2d(256, 3, kernel_size=(1, 1), stride=(1, 1)) # Change final layer to 3 classes\n",
        "\n",
        "Net.load_state_dict(torch.load(modelPath))\n",
        "Net=Net.to(device)\n",
        "Net.eval()\n",
        "Prd = Net(Img)['out']  # Run net# resize to orginal size\n",
        "Prd = tf.Resize((height_orgin,widh_orgin))(Prd[0])#Convert probability to class map\n",
        "seg = torch.argmax(Prd, 0).cpu().detach().numpy()  \n",
        "plt.imshow(seg)  # display image\n",
        "plt.axis('off')\n",
        "plt.show()\n"
      ]
    }
  ],
  "metadata": {
    "accelerator": "GPU",
    "colab": {
      "provenance": [],
      "toc_visible": true
    },
    "gpuClass": "standard",
    "kernelspec": {
      "display_name": "Python 3",
      "name": "python3"
    },
    "language_info": {
      "codemirror_mode": {
        "name": "ipython",
        "version": 3
      },
      "file_extension": ".py",
      "mimetype": "text/x-python",
      "name": "python",
      "nbconvert_exporter": "python",
      "pygments_lexer": "ipython3",
      "version": "3.10.11"
    }
  },
  "nbformat": 4,
  "nbformat_minor": 0
}
